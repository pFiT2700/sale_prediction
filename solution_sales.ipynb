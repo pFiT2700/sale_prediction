{
 "cells": [
  {
   "cell_type": "markdown",
   "metadata": {},
   "source": [
    "# Data Munging"
   ]
  },
  {
   "cell_type": "code",
   "execution_count": 1,
   "metadata": {},
   "outputs": [],
   "source": [
    "import pandas as pd"
   ]
  },
  {
   "cell_type": "code",
   "execution_count": 77,
   "metadata": {},
   "outputs": [],
   "source": [
    "raw_train_data = pd.read_csv(\"sales_train.csv\")\n",
    "category_data = pd.read_csv(\"items.csv\").loc[:,[\"item_id\", \"item_category_id\"]]\n",
    "category_data_dict = {x[0]:x[1] for x in category_data.itertuples(index = False)}\n",
    "sample_train = raw_train_data.sample(frac=0.001, replace = True).loc[:, [\"date_block_num\", \"shop_id\", \"item_id\", \"item_price\", \"item_cnt_day\"]]"
   ]
  },
  {
   "cell_type": "markdown",
   "metadata": {},
   "source": [
    "# One hot encoding//pending"
   ]
  },
  {
   "cell_type": "markdown",
   "metadata": {},
   "source": [
    "# Abalation//pending"
   ]
  },
  {
   "cell_type": "code",
   "execution_count": 78,
   "metadata": {},
   "outputs": [],
   "source": [
    "# def getSubSampleTrainTestSet(data_set,):\n",
    "sample_item_set = set(sample_train.item_id)\n",
    "len(sample_item_set)\n",
    "def isInTraining(item_id):\n",
    "    if item_id in sample_item_set:\n",
    "        return True\n",
    "    return False\n",
    "def getCategoryIdForItem(item_id):\n",
    "#     return category_data.loc[category_data[\"item_id\"] == item_id , \"item_id\"]\n",
    "    return category_data_dict[item_id]\n",
    "\n"
   ]
  },
  {
   "cell_type": "code",
   "execution_count": 76,
   "metadata": {},
   "outputs": [
    {
     "name": "stdout",
     "output_type": "stream",
     "text": [
      "55\n"
     ]
    }
   ],
   "source": [
    "print(getCategoryIdForItem(1723))\n"
   ]
  },
  {
   "cell_type": "code",
   "execution_count": null,
   "metadata": {},
   "outputs": [],
   "source": []
  }
 ],
 "metadata": {
  "kernelspec": {
   "display_name": "Python 3",
   "language": "python",
   "name": "python3"
  },
  "language_info": {
   "codemirror_mode": {
    "name": "ipython",
    "version": 3
   },
   "file_extension": ".py",
   "mimetype": "text/x-python",
   "name": "python",
   "nbconvert_exporter": "python",
   "pygments_lexer": "ipython3",
   "version": "3.6.5"
  }
 },
 "nbformat": 4,
 "nbformat_minor": 2
}
