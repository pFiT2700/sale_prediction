{
 "cells": [
  {
   "cell_type": "markdown",
   "metadata": {},
   "source": [
    "# Data Munging"
   ]
  },
  {
   "cell_type": "code",
   "execution_count": 170,
   "metadata": {},
   "outputs": [],
   "source": [
    "import pandas as pd\n",
    "from matplotlib import pyplot as plt\n",
    "from sklearn import linear_model\n",
    "from sklearn.model_selection import train_test_split"
   ]
  },
  {
   "cell_type": "code",
   "execution_count": 162,
   "metadata": {},
   "outputs": [],
   "source": [
    "raw_train_data = pd.read_csv(\"sales_train.csv\")\n",
    "category_data = pd.read_csv(\"items.csv\").loc[:,[\"item_id\", \"item_category_id\"]]\n",
    "df = raw_train_data.join(category_data.set_index(\"item_id\"), on = \"item_id\").drop(\"date\", axis = 1)\n",
    "category_data_dict = {x[0]:x[1] for x in category_data.itertuples(index = False)}\n",
    "df = df.sample(frac=0.005, replace = True)"
   ]
  },
  {
   "cell_type": "markdown",
   "metadata": {},
   "source": [
    "# One hot encoding"
   ]
  },
  {
   "cell_type": "code",
   "execution_count": 156,
   "metadata": {},
   "outputs": [
    {
     "data": {
      "text/html": [
       "<div>\n",
       "<style scoped>\n",
       "    .dataframe tbody tr th:only-of-type {\n",
       "        vertical-align: middle;\n",
       "    }\n",
       "\n",
       "    .dataframe tbody tr th {\n",
       "        vertical-align: top;\n",
       "    }\n",
       "\n",
       "    .dataframe thead th {\n",
       "        text-align: right;\n",
       "    }\n",
       "</style>\n",
       "<table border=\"1\" class=\"dataframe\">\n",
       "  <thead>\n",
       "    <tr style=\"text-align: right;\">\n",
       "      <th></th>\n",
       "      <th>date_block_num</th>\n",
       "      <th>item_id</th>\n",
       "      <th>item_price</th>\n",
       "      <th>item_cnt_day</th>\n",
       "      <th>shop_id_0</th>\n",
       "      <th>shop_id_1</th>\n",
       "      <th>shop_id_2</th>\n",
       "      <th>shop_id_3</th>\n",
       "      <th>shop_id_4</th>\n",
       "      <th>shop_id_5</th>\n",
       "      <th>...</th>\n",
       "      <th>item_category_id_72</th>\n",
       "      <th>item_category_id_73</th>\n",
       "      <th>item_category_id_75</th>\n",
       "      <th>item_category_id_77</th>\n",
       "      <th>item_category_id_78</th>\n",
       "      <th>item_category_id_79</th>\n",
       "      <th>item_category_id_80</th>\n",
       "      <th>item_category_id_81</th>\n",
       "      <th>item_category_id_82</th>\n",
       "      <th>item_category_id_83</th>\n",
       "    </tr>\n",
       "  </thead>\n",
       "  <tbody>\n",
       "    <tr>\n",
       "      <th>932853</th>\n",
       "      <td>8</td>\n",
       "      <td>2447</td>\n",
       "      <td>999.50</td>\n",
       "      <td>1.0</td>\n",
       "      <td>0</td>\n",
       "      <td>0</td>\n",
       "      <td>0</td>\n",
       "      <td>0</td>\n",
       "      <td>0</td>\n",
       "      <td>0</td>\n",
       "      <td>...</td>\n",
       "      <td>0</td>\n",
       "      <td>0</td>\n",
       "      <td>0</td>\n",
       "      <td>0</td>\n",
       "      <td>0</td>\n",
       "      <td>0</td>\n",
       "      <td>0</td>\n",
       "      <td>0</td>\n",
       "      <td>0</td>\n",
       "      <td>0</td>\n",
       "    </tr>\n",
       "    <tr>\n",
       "      <th>128990</th>\n",
       "      <td>1</td>\n",
       "      <td>20881</td>\n",
       "      <td>649.00</td>\n",
       "      <td>1.0</td>\n",
       "      <td>0</td>\n",
       "      <td>0</td>\n",
       "      <td>0</td>\n",
       "      <td>0</td>\n",
       "      <td>0</td>\n",
       "      <td>0</td>\n",
       "      <td>...</td>\n",
       "      <td>1</td>\n",
       "      <td>0</td>\n",
       "      <td>0</td>\n",
       "      <td>0</td>\n",
       "      <td>0</td>\n",
       "      <td>0</td>\n",
       "      <td>0</td>\n",
       "      <td>0</td>\n",
       "      <td>0</td>\n",
       "      <td>0</td>\n",
       "    </tr>\n",
       "    <tr>\n",
       "      <th>2378798</th>\n",
       "      <td>24</td>\n",
       "      <td>12905</td>\n",
       "      <td>199.34</td>\n",
       "      <td>1.0</td>\n",
       "      <td>0</td>\n",
       "      <td>0</td>\n",
       "      <td>0</td>\n",
       "      <td>0</td>\n",
       "      <td>0</td>\n",
       "      <td>0</td>\n",
       "      <td>...</td>\n",
       "      <td>0</td>\n",
       "      <td>0</td>\n",
       "      <td>0</td>\n",
       "      <td>0</td>\n",
       "      <td>0</td>\n",
       "      <td>0</td>\n",
       "      <td>0</td>\n",
       "      <td>0</td>\n",
       "      <td>0</td>\n",
       "      <td>0</td>\n",
       "    </tr>\n",
       "    <tr>\n",
       "      <th>344460</th>\n",
       "      <td>2</td>\n",
       "      <td>9386</td>\n",
       "      <td>349.00</td>\n",
       "      <td>1.0</td>\n",
       "      <td>0</td>\n",
       "      <td>0</td>\n",
       "      <td>0</td>\n",
       "      <td>0</td>\n",
       "      <td>1</td>\n",
       "      <td>0</td>\n",
       "      <td>...</td>\n",
       "      <td>0</td>\n",
       "      <td>0</td>\n",
       "      <td>0</td>\n",
       "      <td>0</td>\n",
       "      <td>0</td>\n",
       "      <td>0</td>\n",
       "      <td>0</td>\n",
       "      <td>0</td>\n",
       "      <td>0</td>\n",
       "      <td>0</td>\n",
       "    </tr>\n",
       "    <tr>\n",
       "      <th>550470</th>\n",
       "      <td>5</td>\n",
       "      <td>6572</td>\n",
       "      <td>549.00</td>\n",
       "      <td>1.0</td>\n",
       "      <td>0</td>\n",
       "      <td>0</td>\n",
       "      <td>0</td>\n",
       "      <td>0</td>\n",
       "      <td>0</td>\n",
       "      <td>0</td>\n",
       "      <td>...</td>\n",
       "      <td>0</td>\n",
       "      <td>0</td>\n",
       "      <td>0</td>\n",
       "      <td>0</td>\n",
       "      <td>0</td>\n",
       "      <td>0</td>\n",
       "      <td>0</td>\n",
       "      <td>0</td>\n",
       "      <td>0</td>\n",
       "      <td>0</td>\n",
       "    </tr>\n",
       "  </tbody>\n",
       "</table>\n",
       "<p>5 rows × 125 columns</p>\n",
       "</div>"
      ],
      "text/plain": [
       "         date_block_num  item_id  item_price  item_cnt_day  shop_id_0  \\\n",
       "932853                8     2447      999.50           1.0          0   \n",
       "128990                1    20881      649.00           1.0          0   \n",
       "2378798              24    12905      199.34           1.0          0   \n",
       "344460                2     9386      349.00           1.0          0   \n",
       "550470                5     6572      549.00           1.0          0   \n",
       "\n",
       "         shop_id_1  shop_id_2  shop_id_3  shop_id_4  shop_id_5  \\\n",
       "932853           0          0          0          0          0   \n",
       "128990           0          0          0          0          0   \n",
       "2378798          0          0          0          0          0   \n",
       "344460           0          0          0          1          0   \n",
       "550470           0          0          0          0          0   \n",
       "\n",
       "                ...           item_category_id_72  item_category_id_73  \\\n",
       "932853          ...                             0                    0   \n",
       "128990          ...                             1                    0   \n",
       "2378798         ...                             0                    0   \n",
       "344460          ...                             0                    0   \n",
       "550470          ...                             0                    0   \n",
       "\n",
       "         item_category_id_75  item_category_id_77  item_category_id_78  \\\n",
       "932853                     0                    0                    0   \n",
       "128990                     0                    0                    0   \n",
       "2378798                    0                    0                    0   \n",
       "344460                     0                    0                    0   \n",
       "550470                     0                    0                    0   \n",
       "\n",
       "         item_category_id_79  item_category_id_80  item_category_id_81  \\\n",
       "932853                     0                    0                    0   \n",
       "128990                     0                    0                    0   \n",
       "2378798                    0                    0                    0   \n",
       "344460                     0                    0                    0   \n",
       "550470                     0                    0                    0   \n",
       "\n",
       "         item_category_id_82  item_category_id_83  \n",
       "932853                     0                    0  \n",
       "128990                     0                    0  \n",
       "2378798                    0                    0  \n",
       "344460                     0                    0  \n",
       "550470                     0                    0  \n",
       "\n",
       "[5 rows x 125 columns]"
      ]
     },
     "execution_count": 156,
     "metadata": {},
     "output_type": "execute_result"
    }
   ],
   "source": [
    "# not encoding item_id becasue possible unique set size is 22170\n",
    "# for column in [\"shop_id\", \"item_category_id\"]:\n",
    "#     df = pd.concat([df ,pd.get_dummies(df[column], prefix = column)], axis = 1)\n",
    "#     df.drop([column], axis = 1, inplace = True)\n",
    "# df.head()"
   ]
  },
  {
   "cell_type": "code",
   "execution_count": null,
   "metadata": {},
   "outputs": [],
   "source": []
  },
  {
   "cell_type": "markdown",
   "metadata": {},
   "source": [
    "# Abalation//pending"
   ]
  },
  {
   "cell_type": "code",
   "execution_count": 139,
   "metadata": {},
   "outputs": [
    {
     "name": "stdout",
     "output_type": "stream",
     "text": [
      "84\n",
      "22170\n",
      "60\n"
     ]
    }
   ],
   "source": [
    "print(len(set(category_data.item_category_id.unique())))\n",
    "print(len(set(category_data.item_id.unique())))\n",
    "print(len(set(raw_train_data.shop_id.unique())))"
   ]
  },
  {
   "cell_type": "code",
   "execution_count": 140,
   "metadata": {},
   "outputs": [],
   "source": [
    "# def getSubSampleTrainTestSet(data_set,):\n",
    "sample_item_set = set(sample_train.item_id)\n",
    "len(sample_item_set)\n",
    "def isInTraining(item_id):\n",
    "    if item_id in sample_item_set:\n",
    "        return True\n",
    "    return False\n",
    "def getCategoryIdForItem(item_id):\n",
    "#     return category_data.loc[category_data[\"item_id\"] == item_id , \"item_id\"]\n",
    "    return category_data_dict[item_id]\n",
    "\n"
   ]
  },
  {
   "cell_type": "code",
   "execution_count": 141,
   "metadata": {},
   "outputs": [],
   "source": [
    "% matplotlib inline"
   ]
  },
  {
   "cell_type": "code",
   "execution_count": 142,
   "metadata": {},
   "outputs": [],
   "source": [
    "_df = df[[\"shop_id\", \"item_cnt_day\", \"item_price\",\"item_category_id\", \"item_id\"]].loc[(df[\"item_price\"]<1000) \n",
    "& (df[\"item_cnt_day\"] < 5) & (df[\"item_price\"] > 0) & (df[\"item_cnt_day\"] > 0)]\n",
    "# _df = df[['item_price','item_cnt_day','date_block_num','shop_id']].loc[(df['item_price']>0) & (df['item_price']<100000) & (df['item_cnt_day']<50)]"
   ]
  },
  {
   "cell_type": "code",
   "execution_count": 143,
   "metadata": {},
   "outputs": [
    {
     "data": {
      "text/plain": [
       "<matplotlib.collections.PathCollection at 0x11ce03b00>"
      ]
     },
     "execution_count": 143,
     "metadata": {},
     "output_type": "execute_result"
    },
    {
     "data": {
      "image/png": "[encoded data removed]",
      "text/plain": [
       "<Figure size 432x288 with 1 Axes>"
      ]
     },
     "metadata": {},
     "output_type": "display_data"
    }
   ],
   "source": [
    "plt.scatter(_df[\"shop_id\"], _df[\"item_cnt_day\"], s=0.1)"
   ]
  },
  {
   "cell_type": "code",
   "execution_count": 144,
   "metadata": {},
   "outputs": [
    {
     "data": {
      "text/plain": [
       "array([56, 54, 35,  4, 42, 22, 41, 57, 58, 21, 49, 37, 15, 29, 16,  7, 44,\n",
       "       13, 52, 59, 28,  6, 47, 25,  1, 10, 45, 39, 30, 19, 34, 31,  5, 43,\n",
       "       55, 26, 51, 50, 27,  3, 53, 24, 18,  2, 38, 46, 48, 17, 12, 14, 32,\n",
       "        8,  0, 23, 40, 33])"
      ]
     },
     "execution_count": 144,
     "metadata": {},
     "output_type": "execute_result"
    }
   ],
   "source": [
    "pd.unique(_df[\"shop_id\"])"
   ]
  },
  {
   "cell_type": "code",
   "execution_count": 145,
   "metadata": {},
   "outputs": [
    {
     "data": {
      "text/plain": [
       "<matplotlib.collections.PathCollection at 0x11ce40748>"
      ]
     },
     "execution_count": 145,
     "metadata": {},
     "output_type": "execute_result"
    },
    {
     "data": {
      "image/png": "[encoded data removed]",
      "text/plain": [
       "<Figure size 432x288 with 1 Axes>"
      ]
     },
     "metadata": {},
     "output_type": "display_data"
    }
   ],
   "source": [
    "plt.scatter(_df[\"item_category_id\"], _df[\"item_cnt_day\"], s=0.1)"
   ]
  },
  {
   "cell_type": "code",
   "execution_count": 146,
   "metadata": {},
   "outputs": [
    {
     "data": {
      "text/plain": [
       "<matplotlib.collections.PathCollection at 0x11ce380b8>"
      ]
     },
     "execution_count": 146,
     "metadata": {},
     "output_type": "execute_result"
    },
    {
     "data": {
      "image/png": "[encoded data removed]",
      "text/plain": [
       "<Figure size 432x288 with 1 Axes>"
      ]
     },
     "metadata": {},
     "output_type": "display_data"
    }
   ],
   "source": [
    "plt.scatter(_df[\"item_price\"], _df[\"item_cnt_day\"], s=0.1)"
   ]
  },
  {
   "cell_type": "code",
   "execution_count": 147,
   "metadata": {},
   "outputs": [
    {
     "data": {
      "text/plain": [
       "<matplotlib.collections.PathCollection at 0x118a49780>"
      ]
     },
     "execution_count": 147,
     "metadata": {},
     "output_type": "execute_result"
    },
    {
     "data": {
      "image/png": "[encoded data removed]",
      "text/plain": [
       "<Figure size 432x288 with 1 Axes>"
      ]
     },
     "metadata": {},
     "output_type": "display_data"
    }
   ],
   "source": [
    "plt.scatter(_df[\"item_id\"], _df[\"shop_id\"], s=0.1)"
   ]
  },
  {
   "cell_type": "code",
   "execution_count": 148,
   "metadata": {},
   "outputs": [
    {
     "data": {
      "text/plain": [
       "<matplotlib.collections.PathCollection at 0x118af8780>"
      ]
     },
     "execution_count": 148,
     "metadata": {},
     "output_type": "execute_result"
    },
    {
     "data": {
      "image/png": "[encoded data removed]",
      "text/plain": [
       "<Figure size 432x288 with 1 Axes>"
      ]
     },
     "metadata": {},
     "output_type": "display_data"
    }
   ],
   "source": [
    "plt.scatter(_df[\"item_id\"], _df[\"item_category_id\"], s=0.1)"
   ]
  },
  {
   "cell_type": "code",
   "execution_count": 149,
   "metadata": {},
   "outputs": [
    {
     "data": {
      "text/plain": [
       "<matplotlib.collections.PathCollection at 0x118bbb208>"
      ]
     },
     "execution_count": 149,
     "metadata": {},
     "output_type": "execute_result"
    },
    {
     "data": {
      "image/png": "[encoded data removed]",
      "text/plain": [
       "<Figure size 432x288 with 1 Axes>"
      ]
     },
     "metadata": {},
     "output_type": "display_data"
    }
   ],
   "source": [
    "plt.scatter(_df[\"shop_id\"], _df[\"item_category_id\"], s=0.1)"
   ]
  },
  {
   "cell_type": "code",
   "execution_count": 150,
   "metadata": {},
   "outputs": [
    {
     "data": {
      "text/html": [
       "<div>\n",
       "<style scoped>\n",
       "    .dataframe tbody tr th:only-of-type {\n",
       "        vertical-align: middle;\n",
       "    }\n",
       "\n",
       "    .dataframe tbody tr th {\n",
       "        vertical-align: top;\n",
       "    }\n",
       "\n",
       "    .dataframe thead th {\n",
       "        text-align: right;\n",
       "    }\n",
       "</style>\n",
       "<table border=\"1\" class=\"dataframe\">\n",
       "  <thead>\n",
       "    <tr style=\"text-align: right;\">\n",
       "      <th></th>\n",
       "      <th>shop_id</th>\n",
       "      <th>item_cnt_day</th>\n",
       "      <th>item_price</th>\n",
       "      <th>item_category_id</th>\n",
       "      <th>item_id</th>\n",
       "    </tr>\n",
       "  </thead>\n",
       "  <tbody>\n",
       "    <tr>\n",
       "      <th>shop_id</th>\n",
       "      <td>1.000000</td>\n",
       "      <td>0.011627</td>\n",
       "      <td>-0.051838</td>\n",
       "      <td>0.017928</td>\n",
       "      <td>-0.001422</td>\n",
       "    </tr>\n",
       "    <tr>\n",
       "      <th>item_cnt_day</th>\n",
       "      <td>0.011627</td>\n",
       "      <td>1.000000</td>\n",
       "      <td>0.027962</td>\n",
       "      <td>-0.028431</td>\n",
       "      <td>-0.008004</td>\n",
       "    </tr>\n",
       "    <tr>\n",
       "      <th>item_price</th>\n",
       "      <td>-0.051838</td>\n",
       "      <td>0.027962</td>\n",
       "      <td>1.000000</td>\n",
       "      <td>-0.251972</td>\n",
       "      <td>-0.246398</td>\n",
       "    </tr>\n",
       "    <tr>\n",
       "      <th>item_category_id</th>\n",
       "      <td>0.017928</td>\n",
       "      <td>-0.028431</td>\n",
       "      <td>-0.251972</td>\n",
       "      <td>1.000000</td>\n",
       "      <td>0.329927</td>\n",
       "    </tr>\n",
       "    <tr>\n",
       "      <th>item_id</th>\n",
       "      <td>-0.001422</td>\n",
       "      <td>-0.008004</td>\n",
       "      <td>-0.246398</td>\n",
       "      <td>0.329927</td>\n",
       "      <td>1.000000</td>\n",
       "    </tr>\n",
       "  </tbody>\n",
       "</table>\n",
       "</div>"
      ],
      "text/plain": [
       "                   shop_id  item_cnt_day  item_price  item_category_id  \\\n",
       "shop_id           1.000000      0.011627   -0.051838          0.017928   \n",
       "item_cnt_day      0.011627      1.000000    0.027962         -0.028431   \n",
       "item_price       -0.051838      0.027962    1.000000         -0.251972   \n",
       "item_category_id  0.017928     -0.028431   -0.251972          1.000000   \n",
       "item_id          -0.001422     -0.008004   -0.246398          0.329927   \n",
       "\n",
       "                   item_id  \n",
       "shop_id          -0.001422  \n",
       "item_cnt_day     -0.008004  \n",
       "item_price       -0.246398  \n",
       "item_category_id  0.329927  \n",
       "item_id           1.000000  "
      ]
     },
     "execution_count": 150,
     "metadata": {},
     "output_type": "execute_result"
    }
   ],
   "source": [
    "_df.corr()"
   ]
  },
  {
   "cell_type": "code",
   "execution_count": 151,
   "metadata": {},
   "outputs": [
    {
     "data": {
      "text/plain": [
       "<matplotlib.collections.PathCollection at 0x1192ed860>"
      ]
     },
     "execution_count": 151,
     "metadata": {},
     "output_type": "execute_result"
    },
    {
     "data": {
      "image/png": "[encoded data removed]",
      "text/plain": [
       "<Figure size 432x288 with 1 Axes>"
      ]
     },
     "metadata": {},
     "output_type": "display_data"
    }
   ],
   "source": [
    "plt.scatter(_df[\"item_price\"], _df[\"item_category_id\"], s=0.1)"
   ]
  },
  {
   "cell_type": "code",
   "execution_count": 152,
   "metadata": {},
   "outputs": [
    {
     "data": {
      "text/plain": [
       "396"
      ]
     },
     "execution_count": 152,
     "metadata": {},
     "output_type": "execute_result"
    }
   ],
   "source": [
    "# from mpl_toolkits.mplot3d import Axes3D\n",
    "# figure = plt.figure()\n",
    "# ax = figure.add_subplot(111, projection=\"3d\")\n",
    "# ax.scatter(_df[\"item_price\"], _df[\"item_category_id\"], _df[\"item_id\"])\n",
    "len(pd.unique(df[\"item_price\"].astype(int)))"
   ]
  },
  {
   "cell_type": "code",
   "execution_count": 153,
   "metadata": {},
   "outputs": [
    {
     "data": {
      "text/plain": [
       "64"
      ]
     },
     "execution_count": 153,
     "metadata": {},
     "output_type": "execute_result"
    }
   ],
   "source": [
    "len(pd.unique(df[\"item_category_id\"]))"
   ]
  },
  {
   "cell_type": "markdown",
   "metadata": {},
   "source": [
    "# Model Fitting"
   ]
  },
  {
   "cell_type": "code",
   "execution_count": 154,
   "metadata": {},
   "outputs": [
    {
     "data": {
      "text/html": [
       "<div>\n",
       "<style scoped>\n",
       "    .dataframe tbody tr th:only-of-type {\n",
       "        vertical-align: middle;\n",
       "    }\n",
       "\n",
       "    .dataframe tbody tr th {\n",
       "        vertical-align: top;\n",
       "    }\n",
       "\n",
       "    .dataframe thead th {\n",
       "        text-align: right;\n",
       "    }\n",
       "</style>\n",
       "<table border=\"1\" class=\"dataframe\">\n",
       "  <thead>\n",
       "    <tr style=\"text-align: right;\">\n",
       "      <th></th>\n",
       "      <th>date_block_num</th>\n",
       "      <th>shop_id</th>\n",
       "      <th>item_id</th>\n",
       "      <th>item_price</th>\n",
       "      <th>item_cnt_day</th>\n",
       "      <th>item_category_id</th>\n",
       "    </tr>\n",
       "  </thead>\n",
       "  <tbody>\n",
       "    <tr>\n",
       "      <th>932853</th>\n",
       "      <td>8</td>\n",
       "      <td>56</td>\n",
       "      <td>2447</td>\n",
       "      <td>999.50</td>\n",
       "      <td>1.0</td>\n",
       "      <td>23</td>\n",
       "    </tr>\n",
       "    <tr>\n",
       "      <th>128990</th>\n",
       "      <td>1</td>\n",
       "      <td>54</td>\n",
       "      <td>20881</td>\n",
       "      <td>649.00</td>\n",
       "      <td>1.0</td>\n",
       "      <td>72</td>\n",
       "    </tr>\n",
       "    <tr>\n",
       "      <th>2378798</th>\n",
       "      <td>24</td>\n",
       "      <td>35</td>\n",
       "      <td>12905</td>\n",
       "      <td>199.34</td>\n",
       "      <td>1.0</td>\n",
       "      <td>37</td>\n",
       "    </tr>\n",
       "    <tr>\n",
       "      <th>344460</th>\n",
       "      <td>2</td>\n",
       "      <td>4</td>\n",
       "      <td>9386</td>\n",
       "      <td>349.00</td>\n",
       "      <td>1.0</td>\n",
       "      <td>67</td>\n",
       "    </tr>\n",
       "    <tr>\n",
       "      <th>550470</th>\n",
       "      <td>5</td>\n",
       "      <td>42</td>\n",
       "      <td>6572</td>\n",
       "      <td>549.00</td>\n",
       "      <td>1.0</td>\n",
       "      <td>25</td>\n",
       "    </tr>\n",
       "  </tbody>\n",
       "</table>\n",
       "</div>"
      ],
      "text/plain": [
       "         date_block_num  shop_id  item_id  item_price  item_cnt_day  \\\n",
       "932853                8       56     2447      999.50           1.0   \n",
       "128990                1       54    20881      649.00           1.0   \n",
       "2378798              24       35    12905      199.34           1.0   \n",
       "344460                2        4     9386      349.00           1.0   \n",
       "550470                5       42     6572      549.00           1.0   \n",
       "\n",
       "         item_category_id  \n",
       "932853                 23  \n",
       "128990                 72  \n",
       "2378798                37  \n",
       "344460                 67  \n",
       "550470                 25  "
      ]
     },
     "execution_count": 154,
     "metadata": {},
     "output_type": "execute_result"
    }
   ],
   "source": []
  },
  {
   "cell_type": "code",
   "execution_count": 166,
   "metadata": {},
   "outputs": [],
   "source": [
    "raw_train_data = pd.read_csv(\"sales_train.csv\")\n",
    "category_data = pd.read_csv(\"items.csv\").loc[:,[\"item_id\", \"item_category_id\"]]\n",
    "df = raw_train_data.join(category_data.set_index(\"item_id\"), on = \"item_id\").drop(\"date\", axis = 1)\n",
    "category_data_dict = {x[0]:x[1] for x in category_data.itertuples(index = False)}\n",
    "df = df.sample(frac=0.001, replace = True)\n",
    "\n",
    "for column in [\"shop_id\", \"item_category_id\"]:\n",
    "    df = pd.concat([df ,pd.get_dummies(df[column], prefix = column)], axis = 1)\n",
    "    df.drop([column], axis = 1, inplace = True)\n",
    "df.drop([\"item_id\"], axis = 1, inplace = True)"
   ]
  },
  {
   "cell_type": "code",
   "execution_count": 171,
   "metadata": {},
   "outputs": [],
   "source": [
    "df_train, df_test = train_test_split(df, test_size=0.2)"
   ]
  },
  {
   "cell_type": "code",
   "execution_count": 172,
   "metadata": {},
   "outputs": [
    {
     "data": {
      "text/plain": [
       "291152"
      ]
     },
     "execution_count": 172,
     "metadata": {},
     "output_type": "execute_result"
    }
   ],
   "source": [
    "lm = linear_model.LinearRegression()\n",
    "lm.fit(df_train[\"\"])"
   ]
  },
  {
   "cell_type": "code",
   "execution_count": 173,
   "metadata": {},
   "outputs": [
    {
     "data": {
      "text/plain": [
       "72912"
      ]
     },
     "execution_count": 173,
     "metadata": {},
     "output_type": "execute_result"
    }
   ],
   "source": [
    "df_test.size"
   ]
  },
  {
   "cell_type": "code",
   "execution_count": null,
   "metadata": {},
   "outputs": [],
   "source": []
  },
  {
   "cell_type": "code",
   "execution_count": null,
   "metadata": {},
   "outputs": [],
   "source": []
  }
 ],
 "metadata": {
  "kernelspec": {
   "display_name": "Python 3",
   "language": "python",
   "name": "python3"
  },
  "language_info": {
   "codemirror_mode": {
    "name": "ipython",
    "version": 3
   },
   "file_extension": ".py",
   "mimetype": "text/x-python",
   "name": "python",
   "nbconvert_exporter": "python",
   "pygments_lexer": "ipython3",
   "version": "3.6.5"
  }
 },
 "nbformat": 4,
 "nbformat_minor": 2
}
